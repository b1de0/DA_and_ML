{
 "cells": [
  {
   "cell_type": "markdown",
   "metadata": {},
   "source": [
    "# Assignment: Выбор семейства распределений в наивном байесе\n"
   ]
  },
  {
   "cell_type": "markdown",
   "metadata": {},
   "source": [
    "В этом задании вы сможете немного расслабиться после реализации случайного леса и градиентного бустинга по мотивам материалов прошлой недели. Все, что нужно будет делать — запускать методы из `sklearn`. Вам предлагается выяснить, какое распределение лучше использовать в наивном байесовском классификаторе в зависимости от вида признаков.\n",
    "\n",
    "1. Загрузите датасеты [`digits`](http://scikit-learn.org/stable/modules/generated/sklearn.datasets.load_digits.html) и `breast_cancer` из `sklearn.datasets`.\n",
    "2. Выведите несколько строчек из обучающих выборок и посмотрите на признаки.\n",
    "3. С помощью `sklearn.cross_validation.cross_val_score` c настройками по умолчанию и вызова метода `mean()` у возвращаемого этой функцией `numpy.ndarray`, сравните качество работы наивных байесовских классификаторов на этих двух датасетах. Для сравнения предлагается использовать `BernoulliNB`, `MultinomialNB` и `GaussianNB`. Насколько полученные результаты согласуются с рекомендациями из лекций?\n",
    "\n",
    "Два датасета, конечно, еще не повод делать далеко идущие выводы, но при желании вы можете продолжить исследование на других выборках (например, из UCI репозитория).\n",
    "\n",
    "Для сдачи задания ответьте на приведенные ниже вопросы."
   ]
  },
  {
   "cell_type": "code",
   "execution_count": 2,
   "metadata": {},
   "outputs": [],
   "source": [
    "from sklearn import model_selection, datasets, naive_bayes\n",
    "import numpy as np\n",
    "import pandas as pd"
   ]
  },
  {
   "cell_type": "code",
   "execution_count": 6,
   "metadata": {},
   "outputs": [],
   "source": [
    "digits = datasets.load_digits()\n",
    "breast_cancer = datasets.load_breast_cancer()"
   ]
  },
  {
   "cell_type": "code",
   "execution_count": 10,
   "metadata": {},
   "outputs": [],
   "source": [
    "X_digits = digits.data\n",
    "y_digits = digits.target\n",
    "\n",
    "X_breast_cancer = breast_cancer.data\n",
    "y_breast_cancer = breast_cancer.target"
   ]
  },
  {
   "cell_type": "code",
   "execution_count": 11,
   "metadata": {},
   "outputs": [],
   "source": [
    "bernoulli = naive_bayes.BernoulliNB()\n",
    "multinomial = naive_bayes.MultinomialNB()\n",
    "gaussian = naive_bayes.GaussianNB()"
   ]
  },
  {
   "cell_type": "code",
   "execution_count": 12,
   "metadata": {},
   "outputs": [],
   "source": [
    "score_digits_bernoulli = model_selection.cross_val_score(bernoulli, X_digits, y_digits).mean()\n",
    "score_digits_multinomial = model_selection.cross_val_score(multinomial, X_digits, y_digits).mean()\n",
    "score_digits_gaussian = model_selection.cross_val_score(gaussian, X_digits, y_digits).mean()\n",
    "\n",
    "score_breast_cancer_bernoulli = model_selection.cross_val_score(bernoulli, X_breast_cancer, y_breast_cancer).mean()\n",
    "score_breast_cancer_multinomial = model_selection.cross_val_score(multinomial, X_breast_cancer, y_breast_cancer).mean()\n",
    "score_breast_cancer_gaussian = model_selection.cross_val_score(gaussian, X_breast_cancer, y_breast_cancer).mean()"
   ]
  },
  {
   "cell_type": "code",
   "execution_count": 14,
   "metadata": {},
   "outputs": [
    {
     "name": "stdout",
     "output_type": "stream",
     "text": [
      "Digits score Bernulli = 0.8258\n",
      "Digits score Multinomial = 0.8709\n",
      "Digits score Gaussian = 0.8186\n",
      "\n",
      "Breast Cancer score Bernulli = 0.6274\n",
      "Breast Cancer score Multinomial = 0.8946\n",
      "Breast Cancer score Gaussian = 0.9367\n"
     ]
    }
   ],
   "source": [
    "print(\"Digits score Bernulli = %.4f\" % score_digits_bernoulli)\n",
    "print(\"Digits score Multinomial = %.4f\" % score_digits_multinomial)\n",
    "print(\"Digits score Gaussian = %.4f\" % score_digits_gaussian)\n",
    "print()\n",
    "print(\"Breast Cancer score Bernulli = %.4f\" % score_breast_cancer_bernoulli)\n",
    "print(\"Breast Cancer score Multinomial = %.4f\" % score_breast_cancer_multinomial)\n",
    "print(\"Breast Cancer score Gaussian = %.4f\" % score_breast_cancer_gaussian)"
   ]
  },
  {
   "cell_type": "markdown",
   "metadata": {},
   "source": [
    "## Вопрос 1\n",
    "\n",
    "Каким получилось максимальное качество классификации на датасете `breast_cancer`?"
   ]
  },
  {
   "cell_type": "code",
   "execution_count": 20,
   "metadata": {},
   "outputs": [],
   "source": [
    "with open('nb_ans1.txt', 'w') as f_out:\n",
    "        f_out.write(str(np.max([score_breast_cancer_bernoulli, score_breast_cancer_multinomial, score_breast_cancer_gaussian])))"
   ]
  },
  {
   "cell_type": "markdown",
   "metadata": {},
   "source": [
    "## Вопрос 2\n",
    "\n",
    "Каким получилось максимальное качество классификации на датасете `digits`?"
   ]
  },
  {
   "cell_type": "code",
   "execution_count": 21,
   "metadata": {},
   "outputs": [],
   "source": [
    "with open('nb_ans2.txt', 'w') as f_out:\n",
    "        f_out.write(str(np.max([score_digits_bernoulli, score_digits_multinomial, score_digits_gaussian])))"
   ]
  },
  {
   "cell_type": "markdown",
   "metadata": {},
   "source": [
    "## Вопрос 3\n",
    "\n",
    "Выберите верные утверждения и запишите их номера через пробел (в порядке возрастания номера):\n",
    "\n",
    "1) На вещественных признаках лучше всего сработал наивный байесовский классификатор с распределением Бернулли;\n",
    "\n",
    "2) На вещественных признаках лучше всего сработал наивный байесовский классификатор с мультиномиальным распределением;\n",
    "\n",
    "3) Мультиномиальное распределение лучше показало себя на выборке с целыми неотрицательными значениями признаков;\n",
    "\n",
    "4) На вещественных признаках лучше всего сработало нормальное распределение."
   ]
  },
  {
   "cell_type": "code",
   "execution_count": 18,
   "metadata": {},
   "outputs": [],
   "source": [
    "with open('nb_ans3.txt', 'w') as f_out:\n",
    "        f_out.write('3 4')"
   ]
  }
 ],
 "metadata": {
  "kernelspec": {
   "display_name": "Python 3",
   "language": "python",
   "name": "python3"
  },
  "language_info": {
   "codemirror_mode": {
    "name": "ipython",
    "version": 3
   },
   "file_extension": ".py",
   "mimetype": "text/x-python",
   "name": "python",
   "nbconvert_exporter": "python",
   "pygments_lexer": "ipython3",
   "version": "3.6.3"
  }
 },
 "nbformat": 4,
 "nbformat_minor": 1
}
