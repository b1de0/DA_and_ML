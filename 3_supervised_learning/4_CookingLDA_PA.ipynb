{
 "cells": [
  {
   "cell_type": "markdown",
   "metadata": {},
   "source": [
    "# Programming Assignment\n",
    "## Готовим LDA по рецептам"
   ]
  },
  {
   "cell_type": "markdown",
   "metadata": {},
   "source": [
    "Как вы уже знаете, в тематическом моделировании делается предположение о том, что для определения тематики порядок слов в документе не важен; об этом гласит гипотеза <<мешка слов>>. Сегодня мы будем работать с несколько нестандартной для тематического моделирования коллекцией, которую можно назвать <<мешком ингредиентов>>, потому что на состоит из рецептов блюд разных кухонь. Тематические модели ищут слова, которые часто вместе встречаются в документах, и составляют из них темы. Мы попробуем применить эту идею к рецептам и найти кулинарные <<темы>>. Эта коллекция хороша тем, что не требует предобработки. Кроме того, эта задача достаточно наглядно иллюстрирует принцип работы тематических моделей.\n",
    "\n",
    "Для выполнения заданий, помимо часто используемых в курсе библиотек, потребуются модули json и gensim. Первый входит в дистрибутив Anaconda, второй можно поставить командой \n",
    "\n",
    "pip install gensim\n",
    "\n",
    "Построение модели занимает некоторое время. На ноутбуке с процессором Intel Core i7 и тактовой частотой 2400 МГц на построение одной модели уходит менее 10 минут."
   ]
  },
  {
   "cell_type": "markdown",
   "metadata": {},
   "source": [
    "### Загрузка данных"
   ]
  },
  {
   "cell_type": "markdown",
   "metadata": {},
   "source": [
    "Коллекция дана в json-формате: для каждого рецепта известны его id, кухня (\"cuisine\") и список ингредиентов, в него входящих. Загрузить данные можно с помощью модуля json (он входит в дистрибутив Anaconda):"
   ]
  },
  {
   "cell_type": "code",
   "execution_count": 1,
   "metadata": {},
   "outputs": [],
   "source": [
    "import json"
   ]
  },
  {
   "cell_type": "code",
   "execution_count": 2,
   "metadata": {},
   "outputs": [],
   "source": [
    "with open(\"data/recipes.json\") as f:\n",
    "    recipes = json.load(f)"
   ]
  },
  {
   "cell_type": "code",
   "execution_count": 3,
   "metadata": {},
   "outputs": [
    {
     "name": "stdout",
     "output_type": "stream",
     "text": [
      "{'id': 10259, 'cuisine': 'greek', 'ingredients': ['romaine lettuce', 'black olives', 'grape tomatoes', 'garlic', 'pepper', 'purple onion', 'seasoning', 'garbanzo beans', 'feta cheese crumbles']}\n"
     ]
    }
   ],
   "source": [
    "print(recipes[0])"
   ]
  },
  {
   "cell_type": "markdown",
   "metadata": {},
   "source": [
    "### Составление корпуса"
   ]
  },
  {
   "cell_type": "code",
   "execution_count": 4,
   "metadata": {},
   "outputs": [
    {
     "name": "stderr",
     "output_type": "stream",
     "text": [
      "C:\\ProgramData\\Anaconda3\\lib\\site-packages\\gensim\\utils.py:1167: UserWarning: detected Windows; aliasing chunkize to chunkize_serial\n",
      "  warnings.warn(\"detected Windows; aliasing chunkize to chunkize_serial\")\n"
     ]
    }
   ],
   "source": [
    "from gensim import corpora, models\n",
    "import numpy as np"
   ]
  },
  {
   "cell_type": "markdown",
   "metadata": {},
   "source": [
    "Наша коллекция небольшая и влезает в оперативную память. Gensim может работать с такими данными и не требует их сохранения на диск в специальном формате. Для этого коллекция должна быть представлена в виде списка списков, каждый внутренний список соответствует отдельному документу и состоит из его слов. Пример коллекции из двух документов: \n",
    "\n",
    "[[\"hello\", \"world\"], [\"programming\", \"in\", \"python\"]]\n",
    "\n",
    "Преобразуем наши данные в такой формат, а затем создадим объекты corpus и dictionary, с которыми будет работать модель."
   ]
  },
  {
   "cell_type": "code",
   "execution_count": 5,
   "metadata": {},
   "outputs": [],
   "source": [
    "texts = [recipe[\"ingredients\"] for recipe in recipes]\n",
    "dictionary = corpora.Dictionary(texts)   # составляем словарь\n",
    "corpus = [dictionary.doc2bow(text) for text in texts]  # составляем корпус документов"
   ]
  },
  {
   "cell_type": "code",
   "execution_count": 6,
   "metadata": {},
   "outputs": [
    {
     "name": "stdout",
     "output_type": "stream",
     "text": [
      "['romaine lettuce', 'black olives', 'grape tomatoes', 'garlic', 'pepper', 'purple onion', 'seasoning', 'garbanzo beans', 'feta cheese crumbles']\n",
      "[(0, 1), (1, 1), (2, 1), (3, 1), (4, 1), (5, 1), (6, 1), (7, 1), (8, 1)]\n"
     ]
    }
   ],
   "source": [
    "print(texts[0])\n",
    "print(corpus[0])"
   ]
  },
  {
   "cell_type": "markdown",
   "metadata": {},
   "source": [
    "У объекта dictionary есть две полезных переменных: dictionary.id2token и dictionary.token2id; эти словари позволяют находить соответствие между ингредиентами и их индексами."
   ]
  },
  {
   "cell_type": "markdown",
   "metadata": {},
   "source": [
    "### Обучение модели\n",
    "Вам может понадобиться [документация](https://radimrehurek.com/gensim/models/ldamodel.html) LDA в gensim."
   ]
  },
  {
   "cell_type": "markdown",
   "metadata": {},
   "source": [
    "__Задание 1.__ Обучите модель LDA с 40 темами, установив количество проходов по коллекции 5 и оставив остальные параметры по умолчанию. Затем вызовите метод модели show_topics, указав количество тем 40 и количество токенов 10, и сохраните результат (топы ингредиентов в темах) в отдельную переменную. Если при вызове метода show_topics указать параметр formatted=True, то топы ингредиентов будет удобно выводить на печать, если formatted=False, будет удобно работать со списком программно. Выведите топы на печать, рассмотрите темы, а затем ответьте на вопрос:\n",
    "\n",
    "Сколько раз ингредиенты \"salt\", \"sugar\", \"water\", \"mushrooms\", \"chicken\", \"eggs\" встретились среди топов-10 тем? При ответе __не нужно__ учитывать составные ингредиенты, например, \"hot water\".\n",
    "\n",
    "Передайте 6 чисел в функцию save_answers1 и загрузите сгенерированный файл в форму.\n",
    "\n",
    "У gensim нет возможности фиксировать случайное приближение через параметры метода, но библиотека использует numpy для инициализации матриц. Поэтому, по утверждению автора библиотеки, фиксировать случайное приближение нужно командой, которая написана в следующей ячейке. __Перед строкой кода с построением модели обязательно вставляйте указанную строку фиксации random.seed.__"
   ]
  },
  {
   "cell_type": "code",
   "execution_count": 7,
   "metadata": {},
   "outputs": [
    {
     "name": "stdout",
     "output_type": "stream",
     "text": [
      "Wall time: 8min 15s\n"
     ]
    }
   ],
   "source": [
    "np.random.seed(76543)\n",
    "# здесь код для построения модели:\n",
    "%time ldamodel = models.ldamodel.LdaModel(corpus, num_topics=40, id2word=dictionary, passes=5)"
   ]
  },
  {
   "cell_type": "code",
   "execution_count": 8,
   "metadata": {},
   "outputs": [
    {
     "data": {
      "text/plain": [
       "[(0,\n",
       "  '0.084*\"garlic cloves\" + 0.068*\"chopped onion\" + 0.066*\"cooking spray\" + 0.063*\"salt\" + 0.043*\"water\" + 0.041*\"fat free less sodium chicken broth\" + 0.040*\"ground red pepper\" + 0.038*\"sliced green onions\" + 0.027*\"olive oil\" + 0.026*\"black pepper\"'),\n",
       " (1,\n",
       "  '0.082*\"corn kernels\" + 0.070*\"diced onions\" + 0.059*\"tortillas\" + 0.057*\"salt and ground black pepper\" + 0.047*\"1% low-fat milk\" + 0.040*\"sliced black olives\" + 0.039*\"cream cheese, soften\" + 0.038*\"vegetable stock\" + 0.038*\"chopped fresh chives\" + 0.035*\"lard\"'),\n",
       " (2,\n",
       "  '0.087*\"olive oil\" + 0.059*\"fresh basil\" + 0.049*\"salt\" + 0.047*\"fresh parsley\" + 0.046*\"crushed red pepper\" + 0.041*\"grated parmesan cheese\" + 0.041*\"garlic cloves\" + 0.030*\"cherry tomatoes\" + 0.027*\"butter\" + 0.027*\"low salt chicken broth\"'),\n",
       " (3,\n",
       "  '0.074*\"bacon\" + 0.072*\"salt\" + 0.061*\"red pepper flakes\" + 0.049*\"ground black pepper\" + 0.047*\"garlic\" + 0.042*\"pasta\" + 0.038*\"onions\" + 0.035*\"olive oil\" + 0.035*\"chicken thighs\" + 0.030*\"fresh dill\"'),\n",
       " (4,\n",
       "  '0.129*\"all-purpose flour\" + 0.116*\"large eggs\" + 0.089*\"salt\" + 0.080*\"milk\" + 0.076*\"butter\" + 0.050*\"sugar\" + 0.039*\"baking powder\" + 0.031*\"powdered sugar\" + 0.026*\"vegetable oil\" + 0.024*\"large egg whites\"'),\n",
       " (5,\n",
       "  '0.079*\"dry white wine\" + 0.049*\"olive oil\" + 0.044*\"shallots\" + 0.038*\"salt\" + 0.031*\"ground cloves\" + 0.030*\"ground allspice\" + 0.030*\"white wine vinegar\" + 0.029*\"butter\" + 0.029*\"arborio rice\" + 0.025*\"saffron threads\"'),\n",
       " (6,\n",
       "  '0.086*\"leeks\" + 0.072*\"dry red wine\" + 0.049*\"pork tenderloin\" + 0.044*\"reduced sodium soy sauce\" + 0.043*\"cilantro sprigs\" + 0.036*\"carrots\" + 0.034*\"peppercorns\" + 0.026*\"beef broth\" + 0.025*\"granny smith apples\" + 0.024*\"cremini mushrooms\"'),\n",
       " (7,\n",
       "  '0.088*\"soy sauce\" + 0.055*\"sesame oil\" + 0.046*\"scallions\" + 0.044*\"green onions\" + 0.039*\"corn starch\" + 0.039*\"rice vinegar\" + 0.036*\"sugar\" + 0.033*\"garlic\" + 0.031*\"vegetable oil\" + 0.027*\"fresh ginger\"'),\n",
       " (8,\n",
       "  '0.179*\"garlic powder\" + 0.106*\"cayenne pepper\" + 0.067*\"onion powder\" + 0.045*\"smoked paprika\" + 0.044*\"ground black pepper\" + 0.034*\"black pepper\" + 0.032*\"fine sea salt\" + 0.027*\"greek yogurt\" + 0.024*\"salt\" + 0.023*\"chili powder\"'),\n",
       " (9,\n",
       "  '0.063*\"olive oil\" + 0.062*\"purple onion\" + 0.061*\"salt\" + 0.060*\"fresh lemon juice\" + 0.053*\"garlic cloves\" + 0.052*\"extra-virgin olive oil\" + 0.047*\"plum tomatoes\" + 0.041*\"ground black pepper\" + 0.034*\"balsamic vinegar\" + 0.027*\"capers\"'),\n",
       " (10,\n",
       "  '0.053*\"broccoli florets\" + 0.050*\"lettuce leaves\" + 0.041*\"chili flakes\" + 0.040*\"crГЁme fraГ®che\" + 0.037*\"radishes\" + 0.032*\"greek style plain yogurt\" + 0.031*\"pork sausages\" + 0.031*\"sharp cheddar cheese\" + 0.029*\"watercress\" + 0.027*\"quickcooking grits\"'),\n",
       " (11,\n",
       "  '0.101*\"lime juice\" + 0.090*\"lime\" + 0.051*\"salt\" + 0.046*\"garlic\" + 0.039*\"chopped cilantro\" + 0.038*\"purple onion\" + 0.035*\"fresh cilantro\" + 0.031*\"jalapeno chilies\" + 0.026*\"mango\" + 0.024*\"olive oil\"'),\n",
       " (12,\n",
       "  '0.082*\"cheese\" + 0.079*\"ricotta cheese\" + 0.075*\"orange juice\" + 0.050*\"sliced mushrooms\" + 0.050*\"baby spinach\" + 0.044*\"vegetable oil cooking spray\" + 0.032*\"frozen chopped spinach\" + 0.029*\"part-skim mozzarella cheese\" + 0.028*\"italian sausage\" + 0.027*\"part-skim ricotta cheese\"'),\n",
       " (13,\n",
       "  '0.077*\"diced tomatoes\" + 0.072*\"dried oregano\" + 0.056*\"onions\" + 0.051*\"tomato sauce\" + 0.049*\"salt\" + 0.044*\"garlic\" + 0.039*\"dried basil\" + 0.039*\"olive oil\" + 0.032*\"crushed tomatoes\" + 0.029*\"ground beef\"'),\n",
       " (14,\n",
       "  '0.067*\"beef\" + 0.048*\"onions\" + 0.047*\"green cabbage\" + 0.045*\"red wine\" + 0.042*\"green peas\" + 0.038*\"goat cheese\" + 0.033*\"beef stock\" + 0.031*\"red cabbage\" + 0.028*\"chili pepper\" + 0.025*\"paneer\"'),\n",
       " (15,\n",
       "  '0.143*\"lemon\" + 0.063*\"sugar\" + 0.060*\"fresh mint\" + 0.048*\"orange\" + 0.044*\"boiling water\" + 0.033*\"water\" + 0.033*\"cold water\" + 0.028*\"ground white pepper\" + 0.028*\"almonds\" + 0.023*\"all purpose unbleached flour\"'),\n",
       " (16,\n",
       "  '0.083*\"chopped cilantro fresh\" + 0.072*\"jalapeno chilies\" + 0.072*\"fresh lime juice\" + 0.055*\"white onion\" + 0.043*\"avocado\" + 0.040*\"salt\" + 0.037*\"ground cumin\" + 0.035*\"garlic cloves\" + 0.028*\"cilantro leaves\" + 0.026*\"tomatoes\"'),\n",
       " (17,\n",
       "  '0.122*\"zucchini\" + 0.067*\"eggplant\" + 0.064*\"onions\" + 0.052*\"olive oil\" + 0.051*\"garlic\" + 0.047*\"white wine\" + 0.042*\"chopped parsley\" + 0.037*\"fresh mushrooms\" + 0.035*\"lean ground beef\" + 0.035*\"raisins\"'),\n",
       " (18,\n",
       "  '0.107*\"parmesan cheese\" + 0.076*\"salt\" + 0.064*\"warm water\" + 0.052*\"bell pepper\" + 0.051*\"olive oil\" + 0.049*\"water\" + 0.036*\"grits\" + 0.031*\"polenta\" + 0.030*\"kale\" + 0.029*\"plain flour\"'),\n",
       " (19,\n",
       "  '0.135*\"unsalted butter\" + 0.072*\"all-purpose flour\" + 0.066*\"salt\" + 0.057*\"large eggs\" + 0.056*\"sugar\" + 0.042*\"granulated sugar\" + 0.042*\"whole milk\" + 0.032*\"buttermilk\" + 0.030*\"large egg yolks\" + 0.029*\"baking powder\"'),\n",
       " (20,\n",
       "  '0.087*\"red wine vinegar\" + 0.073*\"flat leaf parsley\" + 0.051*\"olive oil\" + 0.046*\"extra-virgin olive oil\" + 0.039*\"garlic cloves\" + 0.037*\"sweet onion\" + 0.036*\"ground black pepper\" + 0.036*\"tomatoes\" + 0.034*\"dry bread crumbs\" + 0.032*\"grated lemon zest\"'),\n",
       " (21,\n",
       "  '0.208*\"chicken broth\" + 0.085*\"boneless skinless chicken breast halves\" + 0.077*\"boneless skinless chicken breasts\" + 0.056*\"cajun seasoning\" + 0.037*\"juice\" + 0.033*\"butter\" + 0.028*\"pepper\" + 0.023*\"onions\" + 0.022*\"garlic salt\" + 0.021*\"boneless chicken breast\"'),\n",
       " (22,\n",
       "  '0.129*\"grated parmesan cheese\" + 0.050*\"mozzarella cheese\" + 0.046*\"shredded mozzarella cheese\" + 0.046*\"olive oil\" + 0.037*\"italian seasoning\" + 0.037*\"salt\" + 0.036*\"eggs\" + 0.034*\"garlic\" + 0.029*\"pepper\" + 0.027*\"pasta sauce\"'),\n",
       " (23,\n",
       "  '0.070*\"brown sugar\" + 0.048*\"soy sauce\" + 0.045*\"water\" + 0.044*\"salt\" + 0.043*\"white pepper\" + 0.039*\"oil\" + 0.038*\"sugar\" + 0.037*\"garlic\" + 0.036*\"sauce\" + 0.033*\"cooking oil\"'),\n",
       " (24,\n",
       "  '0.065*\"ground cumin\" + 0.045*\"salt\" + 0.041*\"ground coriander\" + 0.034*\"curry powder\" + 0.032*\"onions\" + 0.029*\"garlic\" + 0.024*\"tumeric\" + 0.024*\"garlic cloves\" + 0.024*\"fresh ginger\" + 0.023*\"vegetable oil\"'),\n",
       " (25,\n",
       "  '0.079*\"large shrimp\" + 0.070*\"hot water\" + 0.065*\"chopped garlic\" + 0.053*\"peanut oil\" + 0.046*\"rice wine\" + 0.036*\"hot red pepper flakes\" + 0.029*\"corn oil\" + 0.025*\"fontina cheese\" + 0.024*\"marsala wine\" + 0.024*\"seasoning\"'),\n",
       " (26,\n",
       "  '0.073*\"mirin\" + 0.064*\"chickpeas\" + 0.044*\"red pepper\" + 0.044*\"mint leaves\" + 0.044*\"spring onions\" + 0.042*\"fresh coriander\" + 0.037*\"sake\" + 0.035*\"saffron\" + 0.032*\"sugar\" + 0.030*\"soy sauce\"'),\n",
       " (27,\n",
       "  '0.168*\"heavy cream\" + 0.065*\"frozen peas\" + 0.057*\"grated nutmeg\" + 0.041*\"bread crumbs\" + 0.036*\"unsalted butter\" + 0.035*\"Tabasco Pepper Sauce\" + 0.034*\"bananas\" + 0.031*\"bread\" + 0.028*\"mascarpone\" + 0.027*\"lump crab meat\"'),\n",
       " (28,\n",
       "  '0.104*\"oil\" + 0.086*\"salt\" + 0.048*\"green chilies\" + 0.047*\"onions\" + 0.046*\"cilantro leaves\" + 0.045*\"cumin seed\" + 0.039*\"ground turmeric\" + 0.037*\"water\" + 0.030*\"chili powder\" + 0.030*\"red chili peppers\"'),\n",
       " (29,\n",
       "  '0.075*\"sour cream\" + 0.046*\"chili powder\" + 0.046*\"salsa\" + 0.045*\"flour tortillas\" + 0.040*\"shredded cheddar cheese\" + 0.039*\"black beans\" + 0.038*\"corn tortillas\" + 0.029*\"cilantro\" + 0.029*\"ground cumin\" + 0.027*\"onions\"'),\n",
       " (30,\n",
       "  '0.094*\"sugar\" + 0.080*\"whipping cream\" + 0.076*\"egg yolks\" + 0.055*\"vanilla extract\" + 0.044*\"butter\" + 0.042*\"half & half\" + 0.039*\"egg whites\" + 0.037*\"sweetened condensed milk\" + 0.032*\"water\" + 0.031*\"strawberries\"'),\n",
       " (31,\n",
       "  '0.099*\"fish sauce\" + 0.054*\"shallots\" + 0.044*\"coconut milk\" + 0.037*\"sugar\" + 0.033*\"vegetable oil\" + 0.031*\"fresh lime juice\" + 0.030*\"lemongrass\" + 0.028*\"water\" + 0.023*\"medium shrimp\" + 0.023*\"beansprouts\"'),\n",
       " (32,\n",
       "  '0.133*\"eggs\" + 0.091*\"salt\" + 0.059*\"butter\" + 0.056*\"all-purpose flour\" + 0.055*\"milk\" + 0.053*\"flour\" + 0.052*\"white sugar\" + 0.036*\"sugar\" + 0.032*\"baking powder\" + 0.021*\"water\"'),\n",
       " (33,\n",
       "  '0.072*\"rice\" + 0.071*\"chicken breasts\" + 0.047*\"coriander\" + 0.045*\"cabbage\" + 0.040*\"salt\" + 0.039*\"onions\" + 0.039*\"ghee\" + 0.029*\"garlic\" + 0.029*\"broccoli\" + 0.027*\"ground cardamom\"'),\n",
       " (34,\n",
       "  '0.077*\"cinnamon sticks\" + 0.072*\"clove\" + 0.049*\"black peppercorns\" + 0.046*\"garam masala\" + 0.035*\"chopped tomatoes\" + 0.035*\"cream\" + 0.033*\"garlic paste\" + 0.032*\"onions\" + 0.029*\"yoghurt\" + 0.028*\"coriander seeds\"'),\n",
       " (35,\n",
       "  '0.060*\"onions\" + 0.053*\"salt\" + 0.049*\"green bell pepper\" + 0.044*\"celery\" + 0.031*\"water\" + 0.030*\"dried thyme\" + 0.029*\"shrimp\" + 0.028*\"garlic\" + 0.028*\"bay leaves\" + 0.025*\"hot sauce\"'),\n",
       " (36,\n",
       "  '0.097*\"salt\" + 0.078*\"paprika\" + 0.065*\"onions\" + 0.064*\"pepper\" + 0.062*\"potatoes\" + 0.031*\"carrots\" + 0.030*\"butter\" + 0.029*\"worcestershire sauce\" + 0.028*\"garlic\" + 0.027*\"fresh thyme\"'),\n",
       " (37,\n",
       "  '0.124*\"extra-virgin olive oil\" + 0.075*\"freshly ground pepper\" + 0.066*\"sea salt\" + 0.049*\"large garlic cloves\" + 0.043*\"coarse salt\" + 0.040*\"kosher salt\" + 0.039*\"garlic cloves\" + 0.029*\"celery ribs\" + 0.029*\"ground pepper\" + 0.028*\"parmigiano reggiano cheese\"'),\n",
       " (38,\n",
       "  '0.080*\"chicken\" + 0.078*\"chicken stock\" + 0.055*\"white vinegar\" + 0.054*\"yellow onion\" + 0.047*\"onions\" + 0.045*\"garlic\" + 0.042*\"ground black pepper\" + 0.033*\"kosher salt\" + 0.028*\"water\" + 0.027*\"salt\"'),\n",
       " (39,\n",
       "  '0.127*\"mayonaise\" + 0.065*\"cheddar cheese\" + 0.061*\"dijon mustard\" + 0.057*\"cider vinegar\" + 0.057*\"cracked black pepper\" + 0.039*\"roma tomatoes\" + 0.038*\"apple cider vinegar\" + 0.036*\"white rice\" + 0.036*\"lemon wedge\" + 0.023*\"french bread\"')]"
      ]
     },
     "execution_count": 8,
     "metadata": {},
     "output_type": "execute_result"
    }
   ],
   "source": [
    "topics = ldamodel.show_topics(num_topics=40, formatted=False)\n",
    "ldamodel.show_topics(num_topics=40)"
   ]
  },
  {
   "cell_type": "code",
   "execution_count": 9,
   "metadata": {},
   "outputs": [
    {
     "data": {
      "text/plain": [
       "{'chicken': 1, 'eggs': 2, 'mushrooms': 0, 'salt': 21, 'sugar': 9, 'water': 10}"
      ]
     },
     "execution_count": 9,
     "metadata": {},
     "output_type": "execute_result"
    }
   ],
   "source": [
    "words = [\"salt\", \"sugar\", \"water\", \"mushrooms\", \"chicken\", \"eggs\"]\n",
    "result = dict(zip(words, [0]*6))\n",
    "for w in words:\n",
    "    for top_list in topics:\n",
    "        for top_w in top_list[1]:\n",
    "            if w == top_w[0]:\n",
    "                result[w] += 1\n",
    "                    \n",
    "result"
   ]
  },
  {
   "cell_type": "code",
   "execution_count": 10,
   "metadata": {},
   "outputs": [],
   "source": [
    "def save_answers1(c_salt, c_sugar, c_water, c_mushrooms, c_chicken, c_eggs):\n",
    "    with open(\"cooking_LDA_pa_task1.txt\", \"w\") as fout:\n",
    "        fout.write(\" \".join([str(el) for el in [c_salt, c_sugar, c_water, c_mushrooms, c_chicken, c_eggs]]))"
   ]
  },
  {
   "cell_type": "code",
   "execution_count": 11,
   "metadata": {},
   "outputs": [],
   "source": [
    "save_answers1(result.get('salt'), result.get('sugar'), result.get('water'), result.get('mushrooms'), \n",
    "              result.get('chicken'), result.get('eggs'))"
   ]
  },
  {
   "cell_type": "markdown",
   "metadata": {},
   "source": [
    "### Фильтрация словаря\n",
    "В топах тем гораздо чаще встречаются первые три рассмотренных ингредиента, чем последние три. При этом наличие в рецепте курицы, яиц и грибов яснее дает понять, что мы будем готовить, чем наличие соли, сахара и воды. Таким образом, даже в рецептах есть слова, часто встречающиеся в текстах и не несущие смысловой нагрузки, и поэтому их не желательно видеть в темах. Наиболее простой прием борьбы с такими фоновыми элементами - фильтрация словаря по частоте. Обычно словарь фильтруют с двух сторон: убирают очень редкие слова (в целях экономии памяти) и очень частые слова (в целях повышения интерпретируемости тем). Мы уберем только частые слова."
   ]
  },
  {
   "cell_type": "code",
   "execution_count": 12,
   "metadata": {},
   "outputs": [],
   "source": [
    "import copy\n",
    "dictionary2 = copy.deepcopy(dictionary)"
   ]
  },
  {
   "cell_type": "markdown",
   "metadata": {},
   "source": [
    "__Задание 2.__ У объекта dictionary2 есть переменная dfs - это словарь, ключами которого являются id токена, а элементами - число раз, сколько слово встретилось во всей коллекции. Сохраните в отдельный список ингредиенты, которые встретились в коллекции больше 4000 раз. Вызовите метод словаря filter_tokens, подав в качестве первого аргумента полученный список популярных ингредиентов. Вычислите две величины: dict_size_before и dict_size_after - размер словаря до и после фильтрации.\n",
    "\n",
    "Затем, используя новый словарь, создайте новый корпус документов, corpus2, по аналогии с тем, как это сделано в начале ноутбука. Вычислите две величины: corpus_size_before и corpus_size_after - суммарное количество ингредиентов в корпусе до и после фильтрации.\n",
    "\n",
    "Передайте величины dict_size_before, dict_size_after, corpus_size_before, corpus_size_after в функцию save_answers2 и загрузите сгенерированный файл в форму."
   ]
  },
  {
   "cell_type": "code",
   "execution_count": 13,
   "metadata": {},
   "outputs": [],
   "source": [
    "dict_size_before = len(dictionary.dfs)"
   ]
  },
  {
   "cell_type": "code",
   "execution_count": 14,
   "metadata": {},
   "outputs": [
    {
     "name": "stdout",
     "output_type": "stream",
     "text": [
      "dict_size_before: 6714\n",
      "dict_size_after: 6702\n"
     ]
    }
   ],
   "source": [
    "dictionary2.filter_tokens(key for key in dictionary2.dfs.keys() if dictionary2.dfs[key] > 4000)\n",
    "dict_size_after = len(dictionary2.dfs)\n",
    "print('dict_size_before:', dict_size_before)\n",
    "print('dict_size_after:', dict_size_after)"
   ]
  },
  {
   "cell_type": "code",
   "execution_count": 15,
   "metadata": {},
   "outputs": [
    {
     "name": "stdout",
     "output_type": "stream",
     "text": [
      "corpus_size_before: 428249\n",
      "corpus_size_after: 343665\n"
     ]
    }
   ],
   "source": [
    "corpus2 = [dictionary2.doc2bow(text) for text in texts]\n",
    "corpus_size_before = 0\n",
    "corpus_size_after = 0\n",
    "for c in corpus:\n",
    "    corpus_size_before += len(c)\n",
    "\n",
    "for c in corpus2:\n",
    "    corpus_size_after  += len(c)\n",
    "    \n",
    "print('corpus_size_before:', corpus_size_before)\n",
    "print('corpus_size_after:', corpus_size_after)"
   ]
  },
  {
   "cell_type": "code",
   "execution_count": 16,
   "metadata": {},
   "outputs": [],
   "source": [
    "def save_answers2(dict_size_before, dict_size_after, corpus_size_before, corpus_size_after):\n",
    "    with open(\"cooking_LDA_pa_task2.txt\", \"w\") as fout:\n",
    "        fout.write(\" \".join([str(el) for el in [dict_size_before, dict_size_after, corpus_size_before, corpus_size_after]]))"
   ]
  },
  {
   "cell_type": "code",
   "execution_count": 17,
   "metadata": {},
   "outputs": [],
   "source": [
    "save_answers2(dict_size_before, dict_size_after, corpus_size_before, corpus_size_after)"
   ]
  },
  {
   "cell_type": "markdown",
   "metadata": {},
   "source": [
    "### Сравнение когерентностей\n",
    "__Задание 3.__ Постройте еще одну модель по корпусу corpus2 и словарю dictioanary2, остальные параметры оставьте такими же, как при первом построении модели. Сохраните новую модель в другую переменную (не перезаписывайте предыдущую модель). Не забудьте про фиксирование seed!\n",
    "\n",
    "Затем воспользуйтесь методом top_topics модели, чтобы вычислить ее когерентность. Передайте в качестве аргумента соответствующий модели корпус. Метод вернет список кортежей (топ токенов, когерентность), отсортированных по убыванию последней. Вычислите среднюю по всем темам когерентность для каждой из двух моделей и передайте в функцию save_answers3. "
   ]
  },
  {
   "cell_type": "code",
   "execution_count": 18,
   "metadata": {},
   "outputs": [
    {
     "name": "stdout",
     "output_type": "stream",
     "text": [
      "Wall time: 7min 25s\n"
     ]
    }
   ],
   "source": [
    "np.random.seed(76543)\n",
    "# здесь код для построения модели:\n",
    "%time ldamodel_2 = models.ldamodel.LdaModel(corpus2, num_topics=40, id2word=dictionary2, passes=5)"
   ]
  },
  {
   "cell_type": "code",
   "execution_count": 19,
   "metadata": {},
   "outputs": [
    {
     "name": "stdout",
     "output_type": "stream",
     "text": [
      "coherence for LDA model 1: ([(0.074706197, 'sour cream'), (0.046462979, 'chili powder'), (0.045566566, 'salsa'), (0.044983082, 'flour tortillas'), (0.039752338, 'shredded cheddar cheese'), (0.039275255, 'black beans'), (0.037687562, 'corn tortillas'), (0.029134326, 'cilantro'), (0.028640378, 'ground cumin'), (0.027310647, 'onions'), (0.026455995, 'salt'), (0.024043934, 'green onions'), (0.021131244, 'avocado'), (0.02096564, 'cumin'), (0.018120889, 'tomatoes'), (0.017340323, 'jalapeno chilies'), (0.016637947, 'olive oil'), (0.015205372, 'corn'), (0.015093607, 'enchilada sauce'), (0.014856201, 'garlic')], -2.189890114250082)\n",
      "\n",
      "coherence for LDA model 2: ([(0.099890679, 'sour cream'), (0.060923543, 'salsa'), (0.060143415, 'flour tortillas'), (0.048328772, 'chili powder'), (0.046898056, 'black beans'), (0.037628803, 'ground cumin'), (0.036287069, 'corn tortillas'), (0.027721072, 'cheese'), (0.027575666, 'cheddar cheese'), (0.026183944, 'green onions'), (0.026022432, 'shredded cheddar cheese'), (0.022421237, 'shredded Monterey Jack cheese'), (0.020180497, 'enchilada sauce'), (0.020101242, 'cooked chicken'), (0.017868266, 'cumin'), (0.017837185, 'green chile'), (0.01783637, 'diced tomatoes'), (0.015898591, 'tomatoes'), (0.015708098, 'chicken broth'), (0.015495266, 'chopped cilantro fresh')], -2.6820476724476943)\n"
     ]
    }
   ],
   "source": [
    "coherence  = ldamodel.top_topics(corpus)\n",
    "coherence2 = ldamodel_2.top_topics(corpus2)\n",
    "print('coherence for LDA model 1:', coherence[0])\n",
    "print()\n",
    "print('coherence for LDA model 2:', coherence2[0])"
   ]
  },
  {
   "cell_type": "code",
   "execution_count": 20,
   "metadata": {},
   "outputs": [],
   "source": [
    "def save_answers3(coherence, coherence2):\n",
    "    with open(\"cooking_LDA_pa_task3.txt\", \"w\") as fout:\n",
    "        fout.write(\" \".join([\"%3f\"%el for el in [coherence, coherence2]]))"
   ]
  },
  {
   "cell_type": "code",
   "execution_count": 21,
   "metadata": {},
   "outputs": [],
   "source": [
    "coherence_score = [c[1] for c in coherence]\n",
    "coherence_score2 = [c[1] for c in coherence2]"
   ]
  },
  {
   "cell_type": "code",
   "execution_count": 22,
   "metadata": {},
   "outputs": [
    {
     "name": "stdout",
     "output_type": "stream",
     "text": [
      "-6.0205964659 -8.24602882781\n"
     ]
    }
   ],
   "source": [
    "print(np.mean(coherence_score), np.mean(coherence_score2))"
   ]
  },
  {
   "cell_type": "code",
   "execution_count": 23,
   "metadata": {},
   "outputs": [],
   "source": [
    "save_answers3(np.mean(coherence_score), np.mean(coherence_score2))"
   ]
  },
  {
   "cell_type": "markdown",
   "metadata": {},
   "source": [
    "Считается, что когерентность хорошо соотносится с человеческими оценками интерпретируемости тем. Поэтому на больших текстовых коллекциях когерентность обычно повышается, если убрать фоновую лексику. Однако в нашем случае этого не произошло. "
   ]
  },
  {
   "cell_type": "markdown",
   "metadata": {},
   "source": [
    "### Изучение влияния гиперпараметра alpha"
   ]
  },
  {
   "cell_type": "markdown",
   "metadata": {},
   "source": [
    "В этом разделе мы будем работать со второй моделью, то есть той, которая построена по сокращенному корпусу. \n",
    "\n",
    "Пока что мы посмотрели только на матрицу темы-слова, теперь давайте посмотрим на матрицу темы-документы. Выведите темы для нулевого (или любого другого) документа из корпуса, воспользовавшись методом get_document_topics второй модели:"
   ]
  },
  {
   "cell_type": "code",
   "execution_count": 24,
   "metadata": {},
   "outputs": [
    {
     "data": {
      "text/plain": [
       "[(25, 0.128125), (30, 0.13281512), (31, 0.6234349)]"
      ]
     },
     "execution_count": 24,
     "metadata": {},
     "output_type": "execute_result"
    }
   ],
   "source": [
    "ldamodel_2.get_document_topics(corpus2[0])"
   ]
  },
  {
   "cell_type": "markdown",
   "metadata": {},
   "source": [
    "Также выведите содержимое переменной .alpha второй модели:"
   ]
  },
  {
   "cell_type": "code",
   "execution_count": 25,
   "metadata": {},
   "outputs": [
    {
     "data": {
      "text/plain": [
       "array([ 0.025,  0.025,  0.025,  0.025,  0.025,  0.025,  0.025,  0.025,\n",
       "        0.025,  0.025,  0.025,  0.025,  0.025,  0.025,  0.025,  0.025,\n",
       "        0.025,  0.025,  0.025,  0.025,  0.025,  0.025,  0.025,  0.025,\n",
       "        0.025,  0.025,  0.025,  0.025,  0.025,  0.025,  0.025,  0.025,\n",
       "        0.025,  0.025,  0.025,  0.025,  0.025,  0.025,  0.025,  0.025], dtype=float32)"
      ]
     },
     "execution_count": 25,
     "metadata": {},
     "output_type": "execute_result"
    }
   ],
   "source": [
    "ldamodel_2.alpha"
   ]
  },
  {
   "cell_type": "markdown",
   "metadata": {},
   "source": [
    "У вас должно получиться, что документ характеризуется небольшим числом тем. Попробуем поменять гиперпараметр alpha, задающий априорное распределение Дирихле для распределений тем в документах."
   ]
  },
  {
   "cell_type": "markdown",
   "metadata": {},
   "source": [
    "__Задание 4.__ Обучите третью модель: используйте сокращенный корпус (corpus2 и dictionary2) и установите параметр __alpha=1__, passes=5. Не забудьте про фиксацию seed! Выведите темы новой модели для нулевого документа; должно получиться, что распределение над множеством тем практически равномерное. Чтобы убедиться в том, что во второй модели документы описываются гораздо более разреженными распределениями, чем в третьей, посчитайте суммарное количество элементов, __превосходящих 0.01__, в матрицах темы-документы обеих моделей. Другими словами, запросите темы  модели для каждого документа с параметром minimum_probability=0.01 и просуммируйте число элементов в получаемых массивах. Передайте две суммы (сначала для модели с alpha по умолчанию, затем для модели в alpha=1) в функцию save_answers4."
   ]
  },
  {
   "cell_type": "code",
   "execution_count": 26,
   "metadata": {},
   "outputs": [
    {
     "name": "stdout",
     "output_type": "stream",
     "text": [
      "Wall time: 19min 23s\n"
     ]
    }
   ],
   "source": [
    "np.random.seed(76543)\n",
    "# здесь код для построения модели:\n",
    "%time ldamodel_3 = models.ldamodel.LdaModel(corpus2, num_topics=40, id2word=dictionary2, passes=5, alpha=1)"
   ]
  },
  {
   "cell_type": "code",
   "execution_count": 27,
   "metadata": {},
   "outputs": [
    {
     "data": {
      "text/plain": [
       "[(0, 0.021348558),\n",
       " (1, 0.021298628),\n",
       " (2, 0.021276595),\n",
       " (3, 0.021338534),\n",
       " (4, 0.021280866),\n",
       " (5, 0.021382365),\n",
       " (6, 0.021299789),\n",
       " (7, 0.021277202),\n",
       " (8, 0.021449089),\n",
       " (9, 0.021319199),\n",
       " (10, 0.021643473),\n",
       " (11, 0.042108856),\n",
       " (12, 0.021276595),\n",
       " (13, 0.046971291),\n",
       " (14, 0.021555584),\n",
       " (15, 0.021561975),\n",
       " (16, 0.021459075),\n",
       " (17, 0.021820476),\n",
       " (18, 0.021276603),\n",
       " (19, 0.021417072),\n",
       " (20, 0.024537068),\n",
       " (21, 0.021288443),\n",
       " (22, 0.021276595),\n",
       " (23, 0.021283576),\n",
       " (24, 0.021810517),\n",
       " (25, 0.021577759),\n",
       " (26, 0.021523209),\n",
       " (27, 0.021349235),\n",
       " (28, 0.021500314),\n",
       " (29, 0.021323508),\n",
       " (30, 0.042586233),\n",
       " (31, 0.071045838),\n",
       " (32, 0.02141865),\n",
       " (33, 0.021310408),\n",
       " (34, 0.021290865),\n",
       " (35, 0.021343185),\n",
       " (36, 0.021288775),\n",
       " (37, 0.021294922),\n",
       " (38, 0.021279102),\n",
       " (39, 0.045309961)]"
      ]
     },
     "execution_count": 27,
     "metadata": {},
     "output_type": "execute_result"
    }
   ],
   "source": [
    "ldamodel_3.get_document_topics(corpus2[0])"
   ]
  },
  {
   "cell_type": "code",
   "execution_count": 28,
   "metadata": {},
   "outputs": [],
   "source": [
    "document_topics_2 = ldamodel_2.get_document_topics(corpus2, minimum_probability=0.01)\n",
    "document_topics_3 = ldamodel_3.get_document_topics(corpus2, minimum_probability=0.01)\n",
    "\n",
    "count_model2 = 0\n",
    "for x in document_topics_2:\n",
    "    count_model2 += len(x)\n",
    "    \n",
    "count_model3 = 0\n",
    "for x in document_topics_3:\n",
    "    count_model3 += len(x)"
   ]
  },
  {
   "cell_type": "code",
   "execution_count": 29,
   "metadata": {},
   "outputs": [],
   "source": [
    "def save_answers4(count_model2, count_model3):\n",
    "    with open(\"cooking_LDA_pa_task4.txt\", \"w\") as fout:\n",
    "        fout.write(\" \".join([str(el) for el in [count_model2, count_model3]]))"
   ]
  },
  {
   "cell_type": "code",
   "execution_count": 30,
   "metadata": {},
   "outputs": [],
   "source": [
    "save_answers4(count_model2, count_model3)"
   ]
  },
  {
   "cell_type": "markdown",
   "metadata": {},
   "source": [
    "Таким образом, гиперпараметр alpha влияет на разреженность распределений тем в документах. Аналогично гиперпараметр eta влияет на разреженность распределений слов в темах."
   ]
  },
  {
   "cell_type": "markdown",
   "metadata": {},
   "source": [
    "### LDA как способ понижения размерности\n",
    "Иногда распределения над темами, найденные с помощью LDA, добавляют в матрицу объекты-признаки как дополнительные, семантические, признаки, и это может улучшить качество решения задачи. Для простоты давайте просто обучим классификатор рецептов на кухни на признаках, полученных из LDA, и измерим точность (accuracy).\n",
    "\n",
    "__Задание 5.__ Используйте модель, построенную по сокращенной выборке с alpha по умолчанию (вторую модель). Составьте матрицу $\\Theta = p(t|d)$ вероятностей тем в документах; вы можете использовать тот же метод get_document_topics, а также вектор правильных ответов y (в том же порядке, в котором рецепты идут в переменной recipes). Создайте объект RandomForestClassifier со 100 деревьями, с помощью функции cross_val_score вычислите среднюю accuracy по трем фолдам (перемешивать данные не нужно) и передайте в функцию save_answers5."
   ]
  },
  {
   "cell_type": "code",
   "execution_count": 31,
   "metadata": {},
   "outputs": [],
   "source": [
    "from sklearn.ensemble import RandomForestClassifier\n",
    "from sklearn.model_selection import cross_val_score"
   ]
  },
  {
   "cell_type": "code",
   "execution_count": 32,
   "metadata": {},
   "outputs": [],
   "source": [
    "topics = ldamodel_2.get_document_topics(corpus2)"
   ]
  },
  {
   "cell_type": "code",
   "execution_count": 33,
   "metadata": {},
   "outputs": [
    {
     "data": {
      "text/plain": [
       "array([[ 0.        ,  0.        ,  0.        ,  0.        ,  0.        ,\n",
       "         0.        ,  0.        ,  0.        ,  0.        ,  0.        ,\n",
       "         0.        ,  0.        ,  0.        ,  0.        ,  0.        ,\n",
       "         0.        ,  0.        ,  0.        ,  0.        ,  0.        ,\n",
       "         0.        ,  0.        ,  0.        ,  0.        ,  0.        ,\n",
       "         0.12812501,  0.        ,  0.        ,  0.        ,  0.        ,\n",
       "         0.13281912,  0.62343091,  0.        ,  0.        ,  0.        ,\n",
       "         0.        ,  0.        ,  0.        ,  0.        ,  0.        ]])"
      ]
     },
     "execution_count": 33,
     "metadata": {},
     "output_type": "execute_result"
    }
   ],
   "source": [
    "teta = np.zeros([len(topics), 40])\n",
    "for i in range(len(topics)):\n",
    "    for t in topics[i]:\n",
    "        teta[i, t[0]] = t[1]\n",
    "\n",
    "teta[:1]"
   ]
  },
  {
   "cell_type": "code",
   "execution_count": 34,
   "metadata": {},
   "outputs": [
    {
     "data": {
      "text/plain": [
       "['greek', 'southern_us', 'filipino', 'indian', 'indian']"
      ]
     },
     "execution_count": 34,
     "metadata": {},
     "output_type": "execute_result"
    }
   ],
   "source": [
    "y = [recipe[\"cuisine\"] for recipe in recipes]\n",
    "y[:5]"
   ]
  },
  {
   "cell_type": "code",
   "execution_count": 35,
   "metadata": {},
   "outputs": [
    {
     "data": {
      "text/plain": [
       "array([ 0.55379628,  0.5493627 ,  0.56021733])"
      ]
     },
     "execution_count": 35,
     "metadata": {},
     "output_type": "execute_result"
    }
   ],
   "source": [
    "accuracy_score = cross_val_score(RandomForestClassifier(n_estimators=100), teta, y)\n",
    "accuracy_score[:]"
   ]
  },
  {
   "cell_type": "code",
   "execution_count": 36,
   "metadata": {},
   "outputs": [],
   "source": [
    "def save_answers5(accuracy):\n",
    "     with open(\"cooking_LDA_pa_task5.txt\", \"w\") as fout:\n",
    "        fout.write(str(accuracy))"
   ]
  },
  {
   "cell_type": "code",
   "execution_count": 37,
   "metadata": {},
   "outputs": [],
   "source": [
    "save_answers5(accuracy_score.mean())"
   ]
  },
  {
   "cell_type": "markdown",
   "metadata": {},
   "source": [
    "Для такого большого количества классов это неплохая точность. Вы можете попроовать обучать RandomForest на исходной матрице частот слов, имеющей значительно большую размерность, и увидеть, что accuracy увеличивается на 10-15%. Таким образом, LDA собрал не всю, но достаточно большую часть информации из выборки, в матрице низкого ранга."
   ]
  },
  {
   "cell_type": "markdown",
   "metadata": {},
   "source": [
    "### LDA --- вероятностная модель\n",
    "Матричное разложение, использующееся в LDA, интерпретируется как следующий процесс генерации документов.\n",
    "\n",
    "Для документа $d$ длины $n_d$:\n",
    "1. Из априорного распределения Дирихле с параметром alpha сгенерировать распределение над множеством тем: $\\theta_d \\sim Dirichlet(\\alpha)$\n",
    "1. Для каждого слова $w = 1, \\dots, n_d$:\n",
    "    1. Сгенерировать тему из дискретного распределения $t \\sim \\theta_{d}$\n",
    "    1. Сгенерировать слово из дискретного распределения $w \\sim \\phi_{t}$.\n",
    "    \n",
    "Подробнее об этом в [Википедии](https://en.wikipedia.org/wiki/Latent_Dirichlet_allocation).\n",
    "\n",
    "В контексте нашей задачи получается, что, используя данный генеративный процесс, можно создавать новые рецепты. Вы можете передать в функцию модель и число ингредиентов и сгенерировать рецепт :)"
   ]
  },
  {
   "cell_type": "code",
   "execution_count": 38,
   "metadata": {},
   "outputs": [],
   "source": [
    "def generate_recipe(model, num_ingredients):\n",
    "    theta = np.random.dirichlet(model.alpha)\n",
    "    for i in range(num_ingredients):\n",
    "        t = np.random.choice(np.arange(model.num_topics), p=theta)\n",
    "        topic = model.show_topic(0, topn=model.num_terms)\n",
    "        topic_distr = [x[1] for x in topic]\n",
    "        terms = [x[0] for x in topic]\n",
    "        w = np.random.choice(terms, p=topic_distr)\n",
    "        print(w)"
   ]
  },
  {
   "cell_type": "code",
   "execution_count": 39,
   "metadata": {},
   "outputs": [
    {
     "name": "stdout",
     "output_type": "stream",
     "text": [
      "potato nuggets\n",
      "dried parsley\n",
      "tomato sauce\n",
      "tomato sauce\n",
      "roast beef\n"
     ]
    }
   ],
   "source": [
    "generate_recipe(ldamodel_2, 5)"
   ]
  },
  {
   "cell_type": "markdown",
   "metadata": {},
   "source": [
    "### Интерпретация построенной модели\n",
    "Вы можете рассмотреть топы ингредиентов каждой темы. Большиснтво тем сами по себе похожи на рецепты; в некоторых собираются продукты одного вида, например, свежие фрукты или разные виды сыра.\n",
    "\n",
    "Попробуем эмпирически соотнести наши темы с национальными кухнями (cuisine). Построим матрицу A размера темы x кухни, ее элементы $a_{tc}$ - суммы p(t|d) по всем документам d, которые отнесены к кухне c. Нормируем матрицу на частоты рецептов по разным кухням, чтобы избежать дисбаланса между кухнями. Следующая функция получает на вход объект модели, объект корпуса и исходные данные и возвращает нормированную матрицу A. Ее удобно визуализировать с помощью seaborn."
   ]
  },
  {
   "cell_type": "code",
   "execution_count": 40,
   "metadata": {},
   "outputs": [],
   "source": [
    "import pandas\n",
    "import seaborn\n",
    "from matplotlib import pyplot as plt\n",
    "%matplotlib inline"
   ]
  },
  {
   "cell_type": "code",
   "execution_count": 41,
   "metadata": {},
   "outputs": [],
   "source": [
    "def compute_topic_cuisine_matrix(model, corpus, recipes):\n",
    "    # составляем вектор целевых признаков\n",
    "    targets = list(set([recipe[\"cuisine\"] for recipe in recipes]))\n",
    "    # составляем матрицу\n",
    "    tc_matrix = pandas.DataFrame(data=np.zeros((model.num_topics, len(targets))), columns=targets)\n",
    "    for recipe, bow in zip(recipes, corpus):\n",
    "        recipe_topic = model.get_document_topics(bow)\n",
    "        for t, prob in recipe_topic:\n",
    "            tc_matrix[recipe[\"cuisine\"]][t] += prob\n",
    "    # нормируем матрицу\n",
    "    target_sums = pandas.DataFrame(data=np.zeros((1, len(targets))), columns=targets)\n",
    "    for recipe in recipes:\n",
    "        target_sums[recipe[\"cuisine\"]] += 1\n",
    "    return pandas.DataFrame(tc_matrix.values/target_sums.values, columns=tc_matrix.columns)"
   ]
  },
  {
   "cell_type": "code",
   "execution_count": 42,
   "metadata": {},
   "outputs": [],
   "source": [
    "def plot_matrix(tc_matrix):\n",
    "    plt.figure(figsize=(10, 10))\n",
    "    seaborn.heatmap(tc_matrix, square=True)"
   ]
  },
  {
   "cell_type": "code",
   "execution_count": 43,
   "metadata": {},
   "outputs": [
    {
     "data": {
      "image/png": "[encoded data removed]",
      "text/plain": [
       "<matplotlib.figure.Figure at 0x226c6860>"
      ]
     },
     "metadata": {},
     "output_type": "display_data"
    }
   ],
   "source": [
    "# Визуализируйте матрицу\n",
    "matrix = compute_topic_cuisine_matrix(ldamodel, corpus, recipes)\n",
    "plot_matrix(matrix)"
   ]
  },
  {
   "cell_type": "markdown",
   "metadata": {},
   "source": [
    "Чем темнее квадрат в матрице, тем больше связь этой темы с данной кухней. Мы видим, что у нас есть темы, которые связаны с несколькими кухнями. Такие темы показывают набор ингредиентов, которые популярны в кухнях нескольких народов, то есть указывают на схожесть кухонь этих народов. Некоторые темы распределены по всем кухням равномерно, они показывают наборы продуктов, которые часто используются в кулинарии всех стран. "
   ]
  },
  {
   "cell_type": "markdown",
   "metadata": {},
   "source": [
    "Жаль, что в датасете нет названий рецептов, иначе темы было бы проще интерпретировать..."
   ]
  },
  {
   "cell_type": "markdown",
   "metadata": {},
   "source": [
    "### Заключение\n",
    "В этом задании вы построили несколько моделей LDA, посмотрели, на что влияют гиперпараметры модели и как можно использовать построенную модель. "
   ]
  }
 ],
 "metadata": {
  "kernelspec": {
   "display_name": "Python 3",
   "language": "python",
   "name": "python3"
  },
  "language_info": {
   "codemirror_mode": {
    "name": "ipython",
    "version": 3
   },
   "file_extension": ".py",
   "mimetype": "text/x-python",
   "name": "python",
   "nbconvert_exporter": "python",
   "pygments_lexer": "ipython3",
   "version": "3.6.3"
  }
 },
 "nbformat": 4,
 "nbformat_minor": 1
}
