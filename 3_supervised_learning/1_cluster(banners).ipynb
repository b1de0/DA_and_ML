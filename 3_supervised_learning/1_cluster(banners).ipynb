{
 "cells": [
  {
   "cell_type": "markdown",
   "metadata": {},
   "source": [
    "# Assignment: Подробнее о методах кластеризации"
   ]
  },
  {
   "cell_type": "markdown",
   "metadata": {},
   "source": [
    "Представим, что международное круизное агентство \"Carnival Cruise Line\" решило себя разрекламировать с помощью баннеров и обратилось для этого к Вам. Чтобы протестировать, велика ли от таких баннеров польза, их будет размещено всего 20 штук по всему миру. Вам надо выбрать 20 таких локаций для размещения, чтобы польза была большой и агентство продолжило с Вами сотрудничать.\n",
    "\n",
    "Агентство крупное, и у него есть несколько офисов по всему миру. Вблизи этих офисов оно и хочет разместить баннеры - легче договариваться и проверять результат. Также эти места должны быть популярны среди туристов.\n",
    "\n",
    "Для поиска оптимальных мест воспользуемся базой данных крупнейшей социальной сети, основанной на локациях - Foursqare.\n",
    "\n",
    "Часть открытых данных есть, например, на сайте archive.org:\n",
    "\n",
    "https://archive.org/details/201309_foursquare_dataset_umn\n",
    "\n",
    "Скачаем любым удобным образом архив с этой страницы."
   ]
  },
  {
   "cell_type": "markdown",
   "metadata": {},
   "source": [
    "Нас будет интересовать файл `checkins.dat`. Открыв его, увидим следующую структуру:\n",
    "\n",
    "```\n",
    "id | user_id | venue_id | latitude | longitude | created_at\n",
    "\n",
    "---------+---------+----------+-------------------+-------------------+---------------------\n",
    "\n",
    "984301 | 2041916 | 5222 | | | 2012-04-21 17:39:01\n",
    "\n",
    "984222 | 15824 | 5222 | 38.8951118 | -77.0363658 | 2012-04-21 17:43:47\n",
    "\n",
    "984315 | 1764391 | 5222 | | | 2012-04-21 17:37:18\n",
    "\n",
    "984234 | 44652 | 5222 | 33.800745 | -84.41052 | 2012-04-21 17:43:43\n",
    "\n",
    "...\n",
    "```"
   ]
  },
  {
   "cell_type": "markdown",
   "metadata": {},
   "source": [
    "Для удобной работы с этим документом преобразуем его к формату csv, удалив строки не содержащие координат - они неинформативны для нас:\n",
    "\n",
    "```\n",
    "id,user_id,venue_id,latitude,longitude,created_at\n",
    "\n",
    "984222,15824,5222,38.8951118,-77.0363658,2012-04-21T17:43:47\n",
    "\n",
    "984234,44652,5222,33.800745,-84.41052,2012-04-21T17:43:43\n",
    "\n",
    "984291,105054,5222,45.5234515,-122.6762071,2012-04-21T17:39:22\n",
    "\n",
    "...\n",
    "```\n",
    "\n",
    "С помощью `pandas` построим DataFrame и убедимся, что все 396632 строк с координатами считаны успешно."
   ]
  },
  {
   "cell_type": "code",
   "execution_count": 1,
   "metadata": {},
   "outputs": [],
   "source": [
    "import csv\n",
    "import numpy as np\n",
    "import pandas as pd"
   ]
  },
  {
   "cell_type": "code",
   "execution_count": 3,
   "metadata": {},
   "outputs": [],
   "source": [
    "# Считываем дат-файл, удаляем строки без координат, и ложим все то построчно в список\n",
    "with open('data/checkins.dat') as input_file:        \n",
    "    newLines = []\n",
    "    for line in input_file:\n",
    "        newLine = [x.strip() for x in line.split('|')]\n",
    "        if len(newLine) == 6 and newLine[3] and newLine[4]:\n",
    "            newLines.append(newLine)"
   ]
  },
  {
   "cell_type": "code",
   "execution_count": 4,
   "metadata": {},
   "outputs": [],
   "source": [
    "# создаем цсв-файл и записываем в него данные\n",
    "with open('checkins.csv', 'w') as output_file:\n",
    "    file_writer = csv.writer(output_file)\n",
    "    file_writer.writerows(newLines)"
   ]
  },
  {
   "cell_type": "code",
   "execution_count": 5,
   "metadata": {},
   "outputs": [],
   "source": [
    "data = pd.read_csv('checkins.csv', header=0)"
   ]
  },
  {
   "cell_type": "code",
   "execution_count": 10,
   "metadata": {},
   "outputs": [
    {
     "data": {
      "text/plain": [
       "396634"
      ]
     },
     "execution_count": 10,
     "metadata": {},
     "output_type": "execute_result"
    }
   ],
   "source": [
    "len(data)"
   ]
  },
  {
   "cell_type": "code",
   "execution_count": 11,
   "metadata": {},
   "outputs": [
    {
     "data": {
      "text/html": [
       "<div>\n",
       "<style scoped>\n",
       "    .dataframe tbody tr th:only-of-type {\n",
       "        vertical-align: middle;\n",
       "    }\n",
       "\n",
       "    .dataframe tbody tr th {\n",
       "        vertical-align: top;\n",
       "    }\n",
       "\n",
       "    .dataframe thead th {\n",
       "        text-align: right;\n",
       "    }\n",
       "</style>\n",
       "<table border=\"1\" class=\"dataframe\">\n",
       "  <thead>\n",
       "    <tr style=\"text-align: right;\">\n",
       "      <th></th>\n",
       "      <th>id</th>\n",
       "      <th>user_id</th>\n",
       "      <th>venue_id</th>\n",
       "      <th>latitude</th>\n",
       "      <th>longitude</th>\n",
       "      <th>created_at</th>\n",
       "    </tr>\n",
       "  </thead>\n",
       "  <tbody>\n",
       "    <tr>\n",
       "      <th>0</th>\n",
       "      <td>984222</td>\n",
       "      <td>15824</td>\n",
       "      <td>5222</td>\n",
       "      <td>38.895112</td>\n",
       "      <td>-77.036366</td>\n",
       "      <td>2012-04-21 17:43:47</td>\n",
       "    </tr>\n",
       "    <tr>\n",
       "      <th>1</th>\n",
       "      <td>984234</td>\n",
       "      <td>44652</td>\n",
       "      <td>5222</td>\n",
       "      <td>33.800745</td>\n",
       "      <td>-84.410520</td>\n",
       "      <td>2012-04-21 17:43:43</td>\n",
       "    </tr>\n",
       "    <tr>\n",
       "      <th>2</th>\n",
       "      <td>984291</td>\n",
       "      <td>105054</td>\n",
       "      <td>5222</td>\n",
       "      <td>45.523452</td>\n",
       "      <td>-122.676207</td>\n",
       "      <td>2012-04-21 17:39:22</td>\n",
       "    </tr>\n",
       "    <tr>\n",
       "      <th>3</th>\n",
       "      <td>984318</td>\n",
       "      <td>2146539</td>\n",
       "      <td>5222</td>\n",
       "      <td>40.764462</td>\n",
       "      <td>-111.904565</td>\n",
       "      <td>2012-04-21 17:35:46</td>\n",
       "    </tr>\n",
       "    <tr>\n",
       "      <th>4</th>\n",
       "      <td>984232</td>\n",
       "      <td>93870</td>\n",
       "      <td>380645</td>\n",
       "      <td>33.448377</td>\n",
       "      <td>-112.074037</td>\n",
       "      <td>2012-04-21 17:38:18</td>\n",
       "    </tr>\n",
       "  </tbody>\n",
       "</table>\n",
       "</div>"
      ],
      "text/plain": [
       "       id  user_id  venue_id   latitude   longitude           created_at\n",
       "0  984222    15824      5222  38.895112  -77.036366  2012-04-21 17:43:47\n",
       "1  984234    44652      5222  33.800745  -84.410520  2012-04-21 17:43:43\n",
       "2  984291   105054      5222  45.523452 -122.676207  2012-04-21 17:39:22\n",
       "3  984318  2146539      5222  40.764462 -111.904565  2012-04-21 17:35:46\n",
       "4  984232    93870    380645  33.448377 -112.074037  2012-04-21 17:38:18"
      ]
     },
     "execution_count": 11,
     "metadata": {},
     "output_type": "execute_result"
    }
   ],
   "source": [
    "data.head()"
   ]
  },
  {
   "cell_type": "code",
   "execution_count": 12,
   "metadata": {},
   "outputs": [
    {
     "data": {
      "text/html": [
       "<div>\n",
       "<style scoped>\n",
       "    .dataframe tbody tr th:only-of-type {\n",
       "        vertical-align: middle;\n",
       "    }\n",
       "\n",
       "    .dataframe tbody tr th {\n",
       "        vertical-align: top;\n",
       "    }\n",
       "\n",
       "    .dataframe thead th {\n",
       "        text-align: right;\n",
       "    }\n",
       "</style>\n",
       "<table border=\"1\" class=\"dataframe\">\n",
       "  <thead>\n",
       "    <tr style=\"text-align: right;\">\n",
       "      <th></th>\n",
       "      <th>id</th>\n",
       "      <th>user_id</th>\n",
       "      <th>venue_id</th>\n",
       "      <th>latitude</th>\n",
       "      <th>longitude</th>\n",
       "      <th>created_at</th>\n",
       "    </tr>\n",
       "  </thead>\n",
       "  <tbody>\n",
       "    <tr>\n",
       "      <th>396629</th>\n",
       "      <td>955561</td>\n",
       "      <td>626076</td>\n",
       "      <td>20073</td>\n",
       "      <td>40.850100</td>\n",
       "      <td>-73.866246</td>\n",
       "      <td>2012-04-13 09:56:48</td>\n",
       "    </tr>\n",
       "    <tr>\n",
       "      <th>396630</th>\n",
       "      <td>955892</td>\n",
       "      <td>674797</td>\n",
       "      <td>2297</td>\n",
       "      <td>33.748995</td>\n",
       "      <td>-84.387982</td>\n",
       "      <td>2012-04-13 10:56:03</td>\n",
       "    </tr>\n",
       "    <tr>\n",
       "      <th>396631</th>\n",
       "      <td>956377</td>\n",
       "      <td>845102</td>\n",
       "      <td>11195</td>\n",
       "      <td>42.765366</td>\n",
       "      <td>-71.467566</td>\n",
       "      <td>2012-04-13 12:08:45</td>\n",
       "    </tr>\n",
       "    <tr>\n",
       "      <th>396632</th>\n",
       "      <td>956119</td>\n",
       "      <td>1139114</td>\n",
       "      <td>29488</td>\n",
       "      <td>42.439479</td>\n",
       "      <td>-83.743830</td>\n",
       "      <td>2012-04-13 11:36:44</td>\n",
       "    </tr>\n",
       "    <tr>\n",
       "      <th>396633</th>\n",
       "      <td>956733</td>\n",
       "      <td>960666</td>\n",
       "      <td>60</td>\n",
       "      <td>42.331427</td>\n",
       "      <td>-83.045754</td>\n",
       "      <td>2012-04-13 21:56:19</td>\n",
       "    </tr>\n",
       "  </tbody>\n",
       "</table>\n",
       "</div>"
      ],
      "text/plain": [
       "            id  user_id  venue_id   latitude  longitude           created_at\n",
       "396629  955561   626076     20073  40.850100 -73.866246  2012-04-13 09:56:48\n",
       "396630  955892   674797      2297  33.748995 -84.387982  2012-04-13 10:56:03\n",
       "396631  956377   845102     11195  42.765366 -71.467566  2012-04-13 12:08:45\n",
       "396632  956119  1139114     29488  42.439479 -83.743830  2012-04-13 11:36:44\n",
       "396633  956733   960666        60  42.331427 -83.045754  2012-04-13 21:56:19"
      ]
     },
     "execution_count": 12,
     "metadata": {},
     "output_type": "execute_result"
    }
   ],
   "source": [
    "data.tail()"
   ]
  },
  {
   "cell_type": "markdown",
   "metadata": {},
   "source": [
    "Теперь необходимо кластеризовать данные координаты, чтобы выявить центры скоплений туристов. Поскольку баннеры имеют сравнительно небольшую площадь действия, нам нужен алгоритм, позволяющий ограничить размер кластера и не зависящий от количества кластеров.\n",
    "\n",
    "Эта задача - хороший повод познакомиться с алгоритмом `MeanShift`, который мы обошли стороной в основной части лекций. Его описание при желании можно посмотреть в [sklearn user guide](http://scikit-learn.org/stable/modules/generated/sklearn.cluster.MeanShift.html), а чуть позже появится дополнительное видео с обзором этого и некоторых других алгоритмов кластеризации. Используйте `MeanShift`, указав `bandwidth=0.1`, что в переводе из градусов в метры колеблется примерно от 5 до 10 км в средних широтах."
   ]
  },
  {
   "cell_type": "markdown",
   "metadata": {},
   "source": [
    "**Примечание**: на 396632 строках, кластеризация будет работать долго. Для получения корректного ответа достаточно и 100000 (~2 минуты на \"среднем\" ноутбуке). Быть очень терпеливым не возбраняется - результат от этого только улучшится."
   ]
  },
  {
   "cell_type": "code",
   "execution_count": 13,
   "metadata": {},
   "outputs": [],
   "source": [
    "import sklearn.cluster as cluster"
   ]
  },
  {
   "cell_type": "code",
   "execution_count": 14,
   "metadata": {},
   "outputs": [],
   "source": [
    "X = data.values[0:100000, 3:5]"
   ]
  },
  {
   "cell_type": "code",
   "execution_count": 15,
   "metadata": {},
   "outputs": [
    {
     "data": {
      "text/plain": [
       "MeanShift(bandwidth=0.1, bin_seeding=False, cluster_all=True, min_bin_freq=1,\n",
       "     n_jobs=1, seeds=None)"
      ]
     },
     "execution_count": 15,
     "metadata": {},
     "output_type": "execute_result"
    }
   ],
   "source": [
    "cluster1 = cluster.MeanShift(bandwidth=0.1)\n",
    "cluster1.fit(X)"
   ]
  },
  {
   "cell_type": "code",
   "execution_count": 16,
   "metadata": {},
   "outputs": [
    {
     "data": {
      "text/plain": [
       "3230"
      ]
     },
     "execution_count": 16,
     "metadata": {},
     "output_type": "execute_result"
    }
   ],
   "source": [
    "# получаем метки кластеров и координаты их центра\n",
    "labels = cluster1.labels_\n",
    "cluster_centers = cluster1.cluster_centers_\n",
    "\n",
    "labels_unique = np.unique(labels)\n",
    "n_clusters_ = len(labels_unique)\n",
    "n_clusters_"
   ]
  },
  {
   "cell_type": "markdown",
   "metadata": {},
   "source": [
    "Некоторые из получившихся кластеров содержат слишком мало точек - такие кластеры не интересны рекламодателям. Поэтому надо определить, какие из кластеров содержат, скажем, больше 15 элементов. Центры этих кластеров и являются оптимальными для размещения."
   ]
  },
  {
   "cell_type": "code",
   "execution_count": 18,
   "metadata": {},
   "outputs": [],
   "source": [
    "# считаем количесвто элементов в каждом кластере\n",
    "d = {}\n",
    "for label in labels:\n",
    "    if label not in d.keys():\n",
    "        d[label] = 1\n",
    "    else:\n",
    "        d[label] += 1"
   ]
  },
  {
   "cell_type": "code",
   "execution_count": 19,
   "metadata": {},
   "outputs": [
    {
     "name": "stdout",
     "output_type": "stream",
     "text": [
      "592\n"
     ]
    }
   ],
   "source": [
    "# считаем количество кластеров в которых больше 15 элементов\n",
    "count = 0\n",
    "for key in d.keys():\n",
    "    if d[key] > 15:\n",
    "        count += 1\n",
    "print(count)"
   ]
  },
  {
   "cell_type": "markdown",
   "metadata": {},
   "source": [
    "При желании увидеть получившиеся результаты на карте, можно передать центры получившихся кластеров в один из инструментов визуализации. Например, сайт `mapcustomizer.com` имеет функцию Bulk Entry, куда можно вставить центры полученных кластеров в формате:\n",
    "\n",
    "```\n",
    "38.8951118,-77.0363658\n",
    "\n",
    "33.800745,-84.41052\n",
    "\n",
    "45.5234515,-122.6762071\n",
    "\n",
    "...\n",
    "```"
   ]
  },
  {
   "cell_type": "markdown",
   "metadata": {},
   "source": [
    "Как мы помним, 20 баннеров надо разместить близ офисов компании. Найдем на Google Maps по запросу \"Carnival Cruise Line\" адреса офисов:\n",
    "\n",
    "```\n",
    "33.751277, -118.188740 (Los Angeles)\n",
    "\n",
    "25.867736, -80.324116 (Miami)\n",
    "\n",
    "51.503016, -0.075479 (London)\n",
    "\n",
    "52.378894, 4.885084 (Amsterdam)\n",
    "\n",
    "39.366487, 117.036146 (Beijing)\n",
    "\n",
    "-33.868457, 151.205134 (Sydney)\n",
    "```\n",
    "\n",
    "Осталось определить 20 ближайших к ним центров кластеров. Т.е. посчитать дистанцию до ближайшего офиса для каждой точки и выбрать 20 с наименьшим значением.\n",
    "\n",
    "**Примечание**: при подсчете расстояний и в кластеризации можно пренебречь тем, что Земля круглая, так как в точках, расположенных близко друг к другу погрешность мала, а в остальных точках значение достаточно велико.\n",
    "\n",
    "Для сдачи задания выберите из получившихся 20 центров тот, который наименее удален от ближайшего к нему офиса. Ответ в этом задании — широта и долгота этого центра, записанные через пробел."
   ]
  },
  {
   "cell_type": "code",
   "execution_count": 24,
   "metadata": {},
   "outputs": [
    {
     "name": "stdout",
     "output_type": "stream",
     "text": [
      "592\n"
     ]
    }
   ],
   "source": [
    "# создаем матрицу для координат кластеров с количеством элементов больше 15\n",
    "clusters_select = np.ndarray(shape=(count,2))\n",
    "print(len(clusters_select))"
   ]
  },
  {
   "cell_type": "code",
   "execution_count": 25,
   "metadata": {},
   "outputs": [],
   "source": [
    "# заполняем матрицу clusters_select  \n",
    "i = 0\n",
    "j = 0\n",
    "while i < len(cluster_centers):\n",
    "    if d[i] > 15:\n",
    "        clusters_select[j] = cluster_centers[i]\n",
    "        j += 1\n",
    "    i += 1"
   ]
  },
  {
   "cell_type": "code",
   "execution_count": 26,
   "metadata": {},
   "outputs": [
    {
     "data": {
      "text/plain": [
       "array([[  40.7177164 ,  -73.99183542],\n",
       "       [  33.44943805, -112.00213969],\n",
       "       [  33.44638027, -111.90188756],\n",
       "       ..., \n",
       "       [  41.61853175,  -88.44556818],\n",
       "       [  38.65877915,  -76.8856871 ],\n",
       "       [  39.2494686 ,  -77.1821271 ]])"
      ]
     },
     "execution_count": 26,
     "metadata": {},
     "output_type": "execute_result"
    }
   ],
   "source": [
    "clusters_select"
   ]
  },
  {
   "cell_type": "code",
   "execution_count": 27,
   "metadata": {},
   "outputs": [],
   "source": [
    "# создаем и заполняем матрицу координат офисов компании\n",
    "offices = np.ndarray(shape=(6,2))\n",
    "offices[0] = np.array([33.751277, -118.188740])\n",
    "offices[1] = np.array([25.867736, -80.324116])\n",
    "offices[2] = np.array([51.503016, -0.075479])\n",
    "offices[3] = np.array([52.378894, 4.885084])\n",
    "offices[4] = np.array([39.366487, 117.036146])\n",
    "offices[5] = np.array([-33.868457, 151.205134])"
   ]
  },
  {
   "cell_type": "code",
   "execution_count": 35,
   "metadata": {},
   "outputs": [],
   "source": [
    "def distance(office, cluster):\n",
    "    return np.sqrt((office[0] - cluster[0])**2 + (office[1] - cluster[1])**2)"
   ]
  },
  {
   "cell_type": "code",
   "execution_count": 36,
   "metadata": {},
   "outputs": [],
   "source": [
    "# считаем растояния от каждого офисо до каждого ценра кластера, выбираем меньшое растояние и запоминаем индекс кластера\n",
    "min_dist_index = 0\n",
    "min_dist = 0\n",
    "i = 0\n",
    "while i < len(clusters_select):\n",
    "    distances = [distance(office, clusters_select[i]) for office in offices]\n",
    "    if min_dist == 0:\n",
    "        min_dist = min(distances)\n",
    "        min_dist_index = i\n",
    "    else:\n",
    "        if min_dist > min(distances):\n",
    "            min_dist = min(distances)\n",
    "            min_dist_index = i\n",
    "    i += 1"
   ]
  },
  {
   "cell_type": "code",
   "execution_count": 39,
   "metadata": {},
   "outputs": [
    {
     "name": "stdout",
     "output_type": "stream",
     "text": [
      "Index of cluster with minimal distance to office: 403\n",
      "Minimal distance between office and cluster: 0.00783475816311\n",
      "Coordinates of nearest cluster -- baner [ -33.86063043  151.20477593]\n"
     ]
    }
   ],
   "source": [
    "print('Index of cluster with minimal distance to office:', min_dist_index)\n",
    "print('Minimal distance between office and cluster:', min_dist)\n",
    "print('Coordinates of nearest cluster -- baner', clusters_select[min_dist_index])"
   ]
  },
  {
   "cell_type": "code",
   "execution_count": 40,
   "metadata": {},
   "outputs": [],
   "source": [
    "def write_answer(coordinates):\n",
    "    with open(\"answer.txt\", \"w\") as f:\n",
    "        f.write(str(coordinates[0]) + ' ' + str(coordinates[1]))"
   ]
  },
  {
   "cell_type": "code",
   "execution_count": 41,
   "metadata": {},
   "outputs": [],
   "source": [
    "write_answer(clusters_select[min_dist_index])"
   ]
  },
  {
   "cell_type": "code",
   "execution_count": null,
   "metadata": {},
   "outputs": [],
   "source": []
  }
 ],
 "metadata": {
  "kernelspec": {
   "display_name": "Python 3",
   "language": "python",
   "name": "python3"
  },
  "language_info": {
   "codemirror_mode": {
    "name": "ipython",
    "version": 3
   },
   "file_extension": ".py",
   "mimetype": "text/x-python",
   "name": "python",
   "nbconvert_exporter": "python",
   "pygments_lexer": "ipython3",
   "version": "3.6.3"
  }
 },
 "nbformat": 4,
 "nbformat_minor": 1
}
