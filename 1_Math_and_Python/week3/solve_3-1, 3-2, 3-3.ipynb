{
 "cells": [
  {
   "cell_type": "code",
   "execution_count": 49,
   "metadata": {},
   "outputs": [],
   "source": [
    "import numpy as np\n",
    "import math\n",
    "import scipy.optimize\n",
    "import matplotlib.pyplot as plt"
   ]
  },
  {
   "cell_type": "code",
   "execution_count": 50,
   "metadata": {},
   "outputs": [],
   "source": [
    "def f(x):\n",
    "    return np.sin(x/5) * np.exp(x/10) + 5 * np.exp(-x/2)"
   ]
  },
  {
   "cell_type": "code",
   "execution_count": 51,
   "metadata": {},
   "outputs": [
    {
     "data": {
      "image/png": "[encoded data removed]",
      "text/plain": [
       "<matplotlib.figure.Figure at 0x1adf5630>"
      ]
     },
     "metadata": {},
     "output_type": "display_data"
    }
   ],
   "source": [
    "x_plot = np.arange(1, 30, 0.1)\n",
    "y_plot = f(x)\n",
    "plt.plot(x_plot, y_plot, '-')\n",
    "plt.xlabel('x')\n",
    "plt.ylabel('y')\n",
    "plt.show()"
   ]
  },
  {
   "cell_type": "code",
   "execution_count": 52,
   "metadata": {},
   "outputs": [
    {
     "name": "stdout",
     "output_type": "stream",
     "text": [
      "Optimization terminated successfully.\n",
      "         Current function value: -11.898895\n",
      "         Iterations: 4\n",
      "         Function evaluations: 21\n",
      "         Gradient evaluations: 7\n",
      "minimum:  [ 25.88018742]\n",
      "Optimization terminated successfully.\n",
      "         Current function value: 1.745268\n",
      "         Iterations: 3\n",
      "         Function evaluations: 39\n",
      "         Gradient evaluations: 13\n",
      "minimum:  [ 4.13630023]\n"
     ]
    }
   ],
   "source": [
    "# стандартные параметры функции минимизации\n",
    "standart = scipy.optimize.minimize(f, np.array([20]), options={'disp': True})\n",
    "print('minimum: ', standart.x)\n",
    "\n",
    "standart = scipy.optimize.minimize(f, np.array([10]), options={'disp': True})\n",
    "print('minimum: ', standart.x)"
   ]
  },
  {
   "cell_type": "code",
   "execution_count": 53,
   "metadata": {},
   "outputs": [
    {
     "name": "stdout",
     "output_type": "stream",
     "text": [
      "Optimization terminated successfully.\n",
      "         Current function value: 1.745268\n",
      "         Iterations: 6\n",
      "         Function evaluations: 21\n",
      "         Gradient evaluations: 7\n",
      "xscale for minimum:  [ 4.13627628]\n",
      "yscale for minimum:  1.7452682903447336\n",
      "Optimization terminated successfully.\n",
      "         Current function value: -11.898895\n",
      "         Iterations: 6\n",
      "         Function evaluations: 21\n",
      "         Gradient evaluations: 7\n",
      "xscale for minimum:  [ 25.88019321]\n",
      "yscale for minimum:  -11.898894665981313\n"
     ]
    }
   ],
   "source": [
    "# минимизация с помощью BFGS\n",
    "bfgs_2 = scipy.optimize.minimize(f, np.array([2]), method='BFGS', options={'disp': True})\n",
    "print('xscale for minimum: ', bfgs_2.x)\n",
    "print('yscale for minimum: ', bfgs_2.fun)\n",
    "\n",
    "bfgs_30 = scipy.optimize.minimize(f, np.array([30]), method='BFGS', options={'disp': True})\n",
    "print('xscale for minimum: ', bfgs_30.x)\n",
    "print('yscale for minimum: ', bfgs_30.fun)"
   ]
  },
  {
   "cell_type": "code",
   "execution_count": 59,
   "metadata": {},
   "outputs": [
    {
     "name": "stdout",
     "output_type": "stream",
     "text": [
      "xscale for minimum:  [ 25.88019302]\n",
      "yscale for minimum:  [-11.89889467]\n"
     ]
    }
   ],
   "source": [
    "# глобальная минимизация с помощью дифференциальной эволюции\n",
    "dif_evo = scipy.optimize.differential_evolution(f, [(1, 30)])\n",
    "print('xscale for minimum: ', dif_evo.x)\n",
    "print('yscale for minimum: ', dif_evo.fun)"
   ]
  },
  {
   "cell_type": "code",
   "execution_count": 84,
   "metadata": {},
   "outputs": [],
   "source": [
    "# делаем функцию негладкой\n",
    "def h(x):\n",
    "    return np.trunc(np.sin(x/5) * np.exp(x/10) + 5 * np.exp(-x/2))"
   ]
  },
  {
   "cell_type": "code",
   "execution_count": 85,
   "metadata": {},
   "outputs": [
    {
     "data": {
      "image/png": "[encoded data removed]",
      "text/plain": [
       "<matplotlib.figure.Figure at 0x1adca278>"
      ]
     },
     "metadata": {},
     "output_type": "display_data"
    }
   ],
   "source": [
    "# y = f(x)\n",
    "y2_plot = h(x)\n",
    "plt.plot(x_plot, y2_plot, '-')\n",
    "plt.xlabel('x')\n",
    "plt.ylabel('y')\n",
    "plt.show()"
   ]
  },
  {
   "cell_type": "code",
   "execution_count": 86,
   "metadata": {},
   "outputs": [
    {
     "name": "stdout",
     "output_type": "stream",
     "text": [
      "Optimization terminated successfully.\n",
      "         Current function value: -5.000000\n",
      "         Iterations: 0\n",
      "         Function evaluations: 3\n",
      "         Gradient evaluations: 1\n",
      "xscale for minimum:  [ 30.]\n",
      "yscale for minimum:  [-5.]\n"
     ]
    }
   ],
   "source": [
    "#минимизация негладкой фнкции с помощъю BFGS\n",
    "bfgs_neglad = scipy.optimize.minimize(h, np.array([30]), method='BFGS', options={'disp': True})\n",
    "print('xscale for minimum: ', bfgs_neglad.x)\n",
    "print('yscale for minimum: ', bfgs_neglad.fun)"
   ]
  },
  {
   "cell_type": "code",
   "execution_count": 87,
   "metadata": {},
   "outputs": [
    {
     "name": "stdout",
     "output_type": "stream",
     "text": [
      "xscale for minimum:  [ 24.24685626]\n",
      "yscale for minimum:  -11.0\n"
     ]
    }
   ],
   "source": [
    "# глобальная минимизация негладкой функции с помощью дифференциальной эволюции\n",
    "dif_evo_neglad= scipy.optimize.differential_evolution(h, [(1, 30)])\n",
    "print('xscale for minimum: ', dif_evo_neglad.x)\n",
    "print('yscale for minimum: ', dif_evo_neglad.fun)"
   ]
  },
  {
   "cell_type": "code",
   "execution_count": null,
   "metadata": {},
   "outputs": [],
   "source": []
  }
 ],
 "metadata": {
  "kernelspec": {
   "display_name": "Python 3",
   "language": "python",
   "name": "python3"
  },
  "language_info": {
   "codemirror_mode": {
    "name": "ipython",
    "version": 3
   },
   "file_extension": ".py",
   "mimetype": "text/x-python",
   "name": "python",
   "nbconvert_exporter": "python",
   "pygments_lexer": "ipython3",
   "version": "3.6.3"
  }
 },
 "nbformat": 4,
 "nbformat_minor": 2
}
